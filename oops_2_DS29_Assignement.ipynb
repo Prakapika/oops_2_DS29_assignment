{
 "cells": [
  {
   "cell_type": "code",
   "execution_count": 1,
   "id": "9ac936d8",
   "metadata": {},
   "outputs": [],
   "source": [
    "class Calculator:\n",
    "\n",
    "    def __init__(self,num1, num2):\n",
    "        self.num1 = num1\n",
    "        self.num2 = num2\n",
    "        \n",
    "    def add(self):\n",
    "        sum = self.num1 + self.num2\n",
    "        return sum\n",
    "    \n",
    "    def subtract(self):\n",
    "        minus = self.num1 - self.num2\n",
    "        return minus\n",
    "    \n",
    "    def multiply(self):\n",
    "        mul = self.num1 * self.num2\n",
    "        return mul\n",
    "    \n",
    "    def divide(self):\n",
    "        division = self.num1/self.num2\n",
    "        return division"
   ]
  },
  {
   "cell_type": "code",
   "execution_count": 2,
   "id": "ba242c7c",
   "metadata": {},
   "outputs": [],
   "source": [
    "calci = Calculator(7,2)\n"
   ]
  },
  {
   "cell_type": "code",
   "execution_count": 3,
   "id": "caf71352",
   "metadata": {},
   "outputs": [
    {
     "data": {
      "text/plain": [
       "9"
      ]
     },
     "execution_count": 3,
     "metadata": {},
     "output_type": "execute_result"
    }
   ],
   "source": [
    "calci.add()\n"
   ]
  },
  {
   "cell_type": "code",
   "execution_count": 4,
   "id": "0c4b0dec",
   "metadata": {},
   "outputs": [
    {
     "data": {
      "text/plain": [
       "14"
      ]
     },
     "execution_count": 4,
     "metadata": {},
     "output_type": "execute_result"
    }
   ],
   "source": [
    "calci.multiply()\n"
   ]
  },
  {
   "cell_type": "code",
   "execution_count": 5,
   "id": "66cdc180",
   "metadata": {},
   "outputs": [
    {
     "data": {
      "text/plain": [
       "5"
      ]
     },
     "execution_count": 5,
     "metadata": {},
     "output_type": "execute_result"
    }
   ],
   "source": [
    "calci.subtract()\n"
   ]
  },
  {
   "cell_type": "code",
   "execution_count": 6,
   "id": "733647c6",
   "metadata": {},
   "outputs": [
    {
     "data": {
      "text/plain": [
       "3.5"
      ]
     },
     "execution_count": 6,
     "metadata": {},
     "output_type": "execute_result"
    }
   ],
   "source": [
    "calci.divide()\n"
   ]
  },
  {
   "cell_type": "code",
   "execution_count": null,
   "id": "c24761ed",
   "metadata": {},
   "outputs": [],
   "source": []
  }
 ],
 "metadata": {
  "kernelspec": {
   "display_name": "Python 3 (ipykernel)",
   "language": "python",
   "name": "python3"
  },
  "language_info": {
   "codemirror_mode": {
    "name": "ipython",
    "version": 3
   },
   "file_extension": ".py",
   "mimetype": "text/x-python",
   "name": "python",
   "nbconvert_exporter": "python",
   "pygments_lexer": "ipython3",
   "version": "3.10.6"
  }
 },
 "nbformat": 4,
 "nbformat_minor": 5
}
